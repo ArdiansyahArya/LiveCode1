{
 "cells": [
  {
   "cell_type": "markdown",
   "metadata": {},
   "source": [
    "# Live Code 1\n",
    "\n",
    "Ardiansyah Arya Salvinia | Batch 016"
   ]
  },
  {
   "cell_type": "markdown",
   "metadata": {},
   "source": [
    "## Description\n",
    "\n",
    "### Objective\n",
    "\n",
    "`Mengecek apakah baterai yang dibuat perusahaan bagus atau tidak`\n",
    "\n",
    "### Problem Statement\n",
    "\n",
    "`Menghitung hambatan dan daya baterai`"
   ]
  },
  {
   "cell_type": "markdown",
   "metadata": {},
   "source": [
    "## Working Area\n"
   ]
  },
  {
   "cell_type": "markdown",
   "metadata": {},
   "source": [
    "### Import Library"
   ]
  },
  {
   "cell_type": "code",
   "execution_count": 70,
   "metadata": {},
   "outputs": [],
   "source": [
    "import pandas as pd\n",
    "import numpy as np"
   ]
  },
  {
   "cell_type": "markdown",
   "metadata": {},
   "source": [
    "### Load Dataset"
   ]
  },
  {
   "cell_type": "code",
   "execution_count": 71,
   "metadata": {},
   "outputs": [],
   "source": [
    "df=pd.read_excel('NMC1-9.xlsx')"
   ]
  },
  {
   "cell_type": "code",
   "execution_count": 72,
   "metadata": {},
   "outputs": [
    {
     "data": {
      "text/html": [
       "<div>\n",
       "<style scoped>\n",
       "    .dataframe tbody tr th:only-of-type {\n",
       "        vertical-align: middle;\n",
       "    }\n",
       "\n",
       "    .dataframe tbody tr th {\n",
       "        vertical-align: top;\n",
       "    }\n",
       "\n",
       "    .dataframe thead th {\n",
       "        text-align: right;\n",
       "    }\n",
       "</style>\n",
       "<table border=\"1\" class=\"dataframe\">\n",
       "  <thead>\n",
       "    <tr style=\"text-align: right;\">\n",
       "      <th></th>\n",
       "      <th>time(s)</th>\n",
       "      <th>V_m</th>\n",
       "      <th>Current (A)</th>\n",
       "      <th>Cycle</th>\n",
       "      <th>Cap</th>\n",
       "    </tr>\n",
       "  </thead>\n",
       "  <tbody>\n",
       "    <tr>\n",
       "      <th>0</th>\n",
       "      <td>0</td>\n",
       "      <td>4.098</td>\n",
       "      <td>0.997</td>\n",
       "      <td>1</td>\n",
       "      <td>2.840817</td>\n",
       "    </tr>\n",
       "    <tr>\n",
       "      <th>1</th>\n",
       "      <td>1</td>\n",
       "      <td>4.096</td>\n",
       "      <td>0.998</td>\n",
       "      <td>1</td>\n",
       "      <td>2.840817</td>\n",
       "    </tr>\n",
       "    <tr>\n",
       "      <th>2</th>\n",
       "      <td>2</td>\n",
       "      <td>4.094</td>\n",
       "      <td>0.999</td>\n",
       "      <td>1</td>\n",
       "      <td>2.840817</td>\n",
       "    </tr>\n",
       "    <tr>\n",
       "      <th>3</th>\n",
       "      <td>3</td>\n",
       "      <td>4.093</td>\n",
       "      <td>0.998</td>\n",
       "      <td>1</td>\n",
       "      <td>2.840817</td>\n",
       "    </tr>\n",
       "    <tr>\n",
       "      <th>4</th>\n",
       "      <td>4</td>\n",
       "      <td>4.092</td>\n",
       "      <td>0.999</td>\n",
       "      <td>1</td>\n",
       "      <td>2.840817</td>\n",
       "    </tr>\n",
       "    <tr>\n",
       "      <th>...</th>\n",
       "      <td>...</td>\n",
       "      <td>...</td>\n",
       "      <td>...</td>\n",
       "      <td>...</td>\n",
       "      <td>...</td>\n",
       "    </tr>\n",
       "    <tr>\n",
       "      <th>90977</th>\n",
       "      <td>90977</td>\n",
       "      <td>2.506</td>\n",
       "      <td>1.002</td>\n",
       "      <td>9</td>\n",
       "      <td>2.770180</td>\n",
       "    </tr>\n",
       "    <tr>\n",
       "      <th>90978</th>\n",
       "      <td>90978</td>\n",
       "      <td>2.504</td>\n",
       "      <td>1.002</td>\n",
       "      <td>9</td>\n",
       "      <td>2.770180</td>\n",
       "    </tr>\n",
       "    <tr>\n",
       "      <th>90979</th>\n",
       "      <td>90979</td>\n",
       "      <td>2.502</td>\n",
       "      <td>1.002</td>\n",
       "      <td>9</td>\n",
       "      <td>2.770180</td>\n",
       "    </tr>\n",
       "    <tr>\n",
       "      <th>90980</th>\n",
       "      <td>90980</td>\n",
       "      <td>2.500</td>\n",
       "      <td>1.002</td>\n",
       "      <td>9</td>\n",
       "      <td>2.770180</td>\n",
       "    </tr>\n",
       "    <tr>\n",
       "      <th>90981</th>\n",
       "      <td>90981</td>\n",
       "      <td>2.497</td>\n",
       "      <td>1.002</td>\n",
       "      <td>9</td>\n",
       "      <td>2.770180</td>\n",
       "    </tr>\n",
       "  </tbody>\n",
       "</table>\n",
       "<p>90982 rows × 5 columns</p>\n",
       "</div>"
      ],
      "text/plain": [
       "       time(s)    V_m  Current (A)  Cycle       Cap\n",
       "0            0  4.098        0.997      1  2.840817\n",
       "1            1  4.096        0.998      1  2.840817\n",
       "2            2  4.094        0.999      1  2.840817\n",
       "3            3  4.093        0.998      1  2.840817\n",
       "4            4  4.092        0.999      1  2.840817\n",
       "...        ...    ...          ...    ...       ...\n",
       "90977    90977  2.506        1.002      9  2.770180\n",
       "90978    90978  2.504        1.002      9  2.770180\n",
       "90979    90979  2.502        1.002      9  2.770180\n",
       "90980    90980  2.500        1.002      9  2.770180\n",
       "90981    90981  2.497        1.002      9  2.770180\n",
       "\n",
       "[90982 rows x 5 columns]"
      ]
     },
     "execution_count": 72,
     "metadata": {},
     "output_type": "execute_result"
    }
   ],
   "source": [
    "df # Melihat preview dari dataset"
   ]
  },
  {
   "cell_type": "markdown",
   "metadata": {},
   "source": [
    "### Memanipulasi beberapa kolom dataset untuk mempermudah proses pengolahan"
   ]
  },
  {
   "cell_type": "code",
   "execution_count": 73,
   "metadata": {},
   "outputs": [],
   "source": [
    "cd=df # Membuat copy dataset agar dataset awal tidak berubah saat terjadi kesalahan input"
   ]
  },
  {
   "cell_type": "code",
   "execution_count": 74,
   "metadata": {},
   "outputs": [],
   "source": [
    "cd = cd.rename(columns={'V_m':'Volt'})\n",
    "cd = cd.rename(columns={'Current (A)':'Ampere'}) # Mengubah nama kolum V_m dan Current (A) agar lebih mudah dimanipulasi"
   ]
  },
  {
   "cell_type": "code",
   "execution_count": 75,
   "metadata": {},
   "outputs": [
    {
     "data": {
      "text/html": [
       "<div>\n",
       "<style scoped>\n",
       "    .dataframe tbody tr th:only-of-type {\n",
       "        vertical-align: middle;\n",
       "    }\n",
       "\n",
       "    .dataframe tbody tr th {\n",
       "        vertical-align: top;\n",
       "    }\n",
       "\n",
       "    .dataframe thead th {\n",
       "        text-align: right;\n",
       "    }\n",
       "</style>\n",
       "<table border=\"1\" class=\"dataframe\">\n",
       "  <thead>\n",
       "    <tr style=\"text-align: right;\">\n",
       "      <th></th>\n",
       "      <th>time(s)</th>\n",
       "      <th>Volt</th>\n",
       "      <th>Ampere</th>\n",
       "      <th>Cycle</th>\n",
       "      <th>Cap</th>\n",
       "    </tr>\n",
       "  </thead>\n",
       "  <tbody>\n",
       "    <tr>\n",
       "      <th>0</th>\n",
       "      <td>0</td>\n",
       "      <td>4.098</td>\n",
       "      <td>0.997</td>\n",
       "      <td>1</td>\n",
       "      <td>2.840817</td>\n",
       "    </tr>\n",
       "    <tr>\n",
       "      <th>1</th>\n",
       "      <td>1</td>\n",
       "      <td>4.096</td>\n",
       "      <td>0.998</td>\n",
       "      <td>1</td>\n",
       "      <td>2.840817</td>\n",
       "    </tr>\n",
       "    <tr>\n",
       "      <th>2</th>\n",
       "      <td>2</td>\n",
       "      <td>4.094</td>\n",
       "      <td>0.999</td>\n",
       "      <td>1</td>\n",
       "      <td>2.840817</td>\n",
       "    </tr>\n",
       "    <tr>\n",
       "      <th>3</th>\n",
       "      <td>3</td>\n",
       "      <td>4.093</td>\n",
       "      <td>0.998</td>\n",
       "      <td>1</td>\n",
       "      <td>2.840817</td>\n",
       "    </tr>\n",
       "    <tr>\n",
       "      <th>4</th>\n",
       "      <td>4</td>\n",
       "      <td>4.092</td>\n",
       "      <td>0.999</td>\n",
       "      <td>1</td>\n",
       "      <td>2.840817</td>\n",
       "    </tr>\n",
       "    <tr>\n",
       "      <th>...</th>\n",
       "      <td>...</td>\n",
       "      <td>...</td>\n",
       "      <td>...</td>\n",
       "      <td>...</td>\n",
       "      <td>...</td>\n",
       "    </tr>\n",
       "    <tr>\n",
       "      <th>90977</th>\n",
       "      <td>90977</td>\n",
       "      <td>2.506</td>\n",
       "      <td>1.002</td>\n",
       "      <td>9</td>\n",
       "      <td>2.770180</td>\n",
       "    </tr>\n",
       "    <tr>\n",
       "      <th>90978</th>\n",
       "      <td>90978</td>\n",
       "      <td>2.504</td>\n",
       "      <td>1.002</td>\n",
       "      <td>9</td>\n",
       "      <td>2.770180</td>\n",
       "    </tr>\n",
       "    <tr>\n",
       "      <th>90979</th>\n",
       "      <td>90979</td>\n",
       "      <td>2.502</td>\n",
       "      <td>1.002</td>\n",
       "      <td>9</td>\n",
       "      <td>2.770180</td>\n",
       "    </tr>\n",
       "    <tr>\n",
       "      <th>90980</th>\n",
       "      <td>90980</td>\n",
       "      <td>2.500</td>\n",
       "      <td>1.002</td>\n",
       "      <td>9</td>\n",
       "      <td>2.770180</td>\n",
       "    </tr>\n",
       "    <tr>\n",
       "      <th>90981</th>\n",
       "      <td>90981</td>\n",
       "      <td>2.497</td>\n",
       "      <td>1.002</td>\n",
       "      <td>9</td>\n",
       "      <td>2.770180</td>\n",
       "    </tr>\n",
       "  </tbody>\n",
       "</table>\n",
       "<p>90982 rows × 5 columns</p>\n",
       "</div>"
      ],
      "text/plain": [
       "       time(s)   Volt  Ampere  Cycle       Cap\n",
       "0            0  4.098   0.997      1  2.840817\n",
       "1            1  4.096   0.998      1  2.840817\n",
       "2            2  4.094   0.999      1  2.840817\n",
       "3            3  4.093   0.998      1  2.840817\n",
       "4            4  4.092   0.999      1  2.840817\n",
       "...        ...    ...     ...    ...       ...\n",
       "90977    90977  2.506   1.002      9  2.770180\n",
       "90978    90978  2.504   1.002      9  2.770180\n",
       "90979    90979  2.502   1.002      9  2.770180\n",
       "90980    90980  2.500   1.002      9  2.770180\n",
       "90981    90981  2.497   1.002      9  2.770180\n",
       "\n",
       "[90982 rows x 5 columns]"
      ]
     },
     "execution_count": 75,
     "metadata": {},
     "output_type": "execute_result"
    }
   ],
   "source": [
    "cd # Melihat tabel baru"
   ]
  },
  {
   "cell_type": "markdown",
   "metadata": {},
   "source": [
    "### a. Membuat fungsi perhitungan hambatan dan daya"
   ]
  },
  {
   "cell_type": "code",
   "execution_count": 76,
   "metadata": {},
   "outputs": [],
   "source": [
    " # Membuat fungsi perhitungan hambatan\n",
    "\n",
    "def hambatan(row):\n",
    "    hasil=cd.Volt/cd.Ampere # Angka di kolum Volt akan dibagikan dengan angka di kolum .Ampere\n",
    "    return hasil\n"
   ]
  },
  {
   "cell_type": "code",
   "execution_count": 77,
   "metadata": {},
   "outputs": [],
   "source": [
    "# Membuat fungsi perhitungan daya\n",
    "\n",
    "def daya(row): \n",
    "    hasil=cd.Volt*cd.Ampere # Angka di kolum Volt akan dikalikan dengan angka di kolum .Ampere\n",
    "    return hasil"
   ]
  },
  {
   "cell_type": "markdown",
   "metadata": {},
   "source": [
    "### b. Membuat kolom R/P yang merupakan hasil perhitungan daya/hambatan"
   ]
  },
  {
   "cell_type": "code",
   "execution_count": null,
   "metadata": {},
   "outputs": [],
   "source": [
    "hasil=[] # Membuat variable yang akan menyimpan list hasil dari for loop."
   ]
  },
  {
   "cell_type": "code",
   "execution_count": 91,
   "metadata": {},
   "outputs": [],
   "source": [
    "for i in cd.Cap: # Mengambil data pada kolom Cap yang akan digunakan sebagai landasan perhitungan\n",
    "    if i>= 2.5:\n",
    "        hasil=daya(i)\n",
    "    elif i< 2.5 :\n",
    "        hasil=hambatan(i)\n"
   ]
  },
  {
   "cell_type": "code",
   "execution_count": 79,
   "metadata": {},
   "outputs": [
    {
     "data": {
      "text/plain": [
       "0        4.085706\n",
       "1        4.087808\n",
       "2        4.089906\n",
       "3        4.084814\n",
       "4        4.087908\n",
       "           ...   \n",
       "90977    2.511012\n",
       "90978    2.509008\n",
       "90979    2.507004\n",
       "90980    2.505000\n",
       "90981    2.501994\n",
       "Length: 90982, dtype: float64"
      ]
     },
     "execution_count": 79,
     "metadata": {},
     "output_type": "execute_result"
    }
   ],
   "source": [
    "hasil # Melihat data yang ada pada list hasil"
   ]
  },
  {
   "cell_type": "code",
   "execution_count": 80,
   "metadata": {},
   "outputs": [],
   "source": [
    "cd['R/P']=hasil # Memasukan list hasi dengan menambah kolom bernama R/P"
   ]
  },
  {
   "cell_type": "code",
   "execution_count": 81,
   "metadata": {},
   "outputs": [
    {
     "data": {
      "text/html": [
       "<div>\n",
       "<style scoped>\n",
       "    .dataframe tbody tr th:only-of-type {\n",
       "        vertical-align: middle;\n",
       "    }\n",
       "\n",
       "    .dataframe tbody tr th {\n",
       "        vertical-align: top;\n",
       "    }\n",
       "\n",
       "    .dataframe thead th {\n",
       "        text-align: right;\n",
       "    }\n",
       "</style>\n",
       "<table border=\"1\" class=\"dataframe\">\n",
       "  <thead>\n",
       "    <tr style=\"text-align: right;\">\n",
       "      <th></th>\n",
       "      <th>time(s)</th>\n",
       "      <th>Volt</th>\n",
       "      <th>Ampere</th>\n",
       "      <th>Cycle</th>\n",
       "      <th>Cap</th>\n",
       "      <th>R/P</th>\n",
       "    </tr>\n",
       "  </thead>\n",
       "  <tbody>\n",
       "    <tr>\n",
       "      <th>0</th>\n",
       "      <td>0</td>\n",
       "      <td>4.098</td>\n",
       "      <td>0.997</td>\n",
       "      <td>1</td>\n",
       "      <td>2.840817</td>\n",
       "      <td>4.085706</td>\n",
       "    </tr>\n",
       "    <tr>\n",
       "      <th>1</th>\n",
       "      <td>1</td>\n",
       "      <td>4.096</td>\n",
       "      <td>0.998</td>\n",
       "      <td>1</td>\n",
       "      <td>2.840817</td>\n",
       "      <td>4.087808</td>\n",
       "    </tr>\n",
       "    <tr>\n",
       "      <th>2</th>\n",
       "      <td>2</td>\n",
       "      <td>4.094</td>\n",
       "      <td>0.999</td>\n",
       "      <td>1</td>\n",
       "      <td>2.840817</td>\n",
       "      <td>4.089906</td>\n",
       "    </tr>\n",
       "    <tr>\n",
       "      <th>3</th>\n",
       "      <td>3</td>\n",
       "      <td>4.093</td>\n",
       "      <td>0.998</td>\n",
       "      <td>1</td>\n",
       "      <td>2.840817</td>\n",
       "      <td>4.084814</td>\n",
       "    </tr>\n",
       "    <tr>\n",
       "      <th>4</th>\n",
       "      <td>4</td>\n",
       "      <td>4.092</td>\n",
       "      <td>0.999</td>\n",
       "      <td>1</td>\n",
       "      <td>2.840817</td>\n",
       "      <td>4.087908</td>\n",
       "    </tr>\n",
       "    <tr>\n",
       "      <th>...</th>\n",
       "      <td>...</td>\n",
       "      <td>...</td>\n",
       "      <td>...</td>\n",
       "      <td>...</td>\n",
       "      <td>...</td>\n",
       "      <td>...</td>\n",
       "    </tr>\n",
       "    <tr>\n",
       "      <th>90977</th>\n",
       "      <td>90977</td>\n",
       "      <td>2.506</td>\n",
       "      <td>1.002</td>\n",
       "      <td>9</td>\n",
       "      <td>2.770180</td>\n",
       "      <td>2.511012</td>\n",
       "    </tr>\n",
       "    <tr>\n",
       "      <th>90978</th>\n",
       "      <td>90978</td>\n",
       "      <td>2.504</td>\n",
       "      <td>1.002</td>\n",
       "      <td>9</td>\n",
       "      <td>2.770180</td>\n",
       "      <td>2.509008</td>\n",
       "    </tr>\n",
       "    <tr>\n",
       "      <th>90979</th>\n",
       "      <td>90979</td>\n",
       "      <td>2.502</td>\n",
       "      <td>1.002</td>\n",
       "      <td>9</td>\n",
       "      <td>2.770180</td>\n",
       "      <td>2.507004</td>\n",
       "    </tr>\n",
       "    <tr>\n",
       "      <th>90980</th>\n",
       "      <td>90980</td>\n",
       "      <td>2.500</td>\n",
       "      <td>1.002</td>\n",
       "      <td>9</td>\n",
       "      <td>2.770180</td>\n",
       "      <td>2.505000</td>\n",
       "    </tr>\n",
       "    <tr>\n",
       "      <th>90981</th>\n",
       "      <td>90981</td>\n",
       "      <td>2.497</td>\n",
       "      <td>1.002</td>\n",
       "      <td>9</td>\n",
       "      <td>2.770180</td>\n",
       "      <td>2.501994</td>\n",
       "    </tr>\n",
       "  </tbody>\n",
       "</table>\n",
       "<p>90982 rows × 6 columns</p>\n",
       "</div>"
      ],
      "text/plain": [
       "       time(s)   Volt  Ampere  Cycle       Cap       R/P\n",
       "0            0  4.098   0.997      1  2.840817  4.085706\n",
       "1            1  4.096   0.998      1  2.840817  4.087808\n",
       "2            2  4.094   0.999      1  2.840817  4.089906\n",
       "3            3  4.093   0.998      1  2.840817  4.084814\n",
       "4            4  4.092   0.999      1  2.840817  4.087908\n",
       "...        ...    ...     ...    ...       ...       ...\n",
       "90977    90977  2.506   1.002      9  2.770180  2.511012\n",
       "90978    90978  2.504   1.002      9  2.770180  2.509008\n",
       "90979    90979  2.502   1.002      9  2.770180  2.507004\n",
       "90980    90980  2.500   1.002      9  2.770180  2.505000\n",
       "90981    90981  2.497   1.002      9  2.770180  2.501994\n",
       "\n",
       "[90982 rows x 6 columns]"
      ]
     },
     "execution_count": 81,
     "metadata": {},
     "output_type": "execute_result"
    }
   ],
   "source": [
    "# Ingin melihat apakah hasil algoritma for loop menghasilkan data yang sesuai\n",
    "\n",
    "cd.loc[cd['Cap']>=2.5] # Melakukan query cap >= 2.5 untuk melihat perkalian daya"
   ]
  },
  {
   "cell_type": "code",
   "execution_count": 82,
   "metadata": {},
   "outputs": [
    {
     "data": {
      "text/html": [
       "<div>\n",
       "<style scoped>\n",
       "    .dataframe tbody tr th:only-of-type {\n",
       "        vertical-align: middle;\n",
       "    }\n",
       "\n",
       "    .dataframe tbody tr th {\n",
       "        vertical-align: top;\n",
       "    }\n",
       "\n",
       "    .dataframe thead th {\n",
       "        text-align: right;\n",
       "    }\n",
       "</style>\n",
       "<table border=\"1\" class=\"dataframe\">\n",
       "  <thead>\n",
       "    <tr style=\"text-align: right;\">\n",
       "      <th></th>\n",
       "      <th>time(s)</th>\n",
       "      <th>Volt</th>\n",
       "      <th>Ampere</th>\n",
       "      <th>Cycle</th>\n",
       "      <th>Cap</th>\n",
       "      <th>R/P</th>\n",
       "    </tr>\n",
       "  </thead>\n",
       "  <tbody>\n",
       "  </tbody>\n",
       "</table>\n",
       "</div>"
      ],
      "text/plain": [
       "Empty DataFrame\n",
       "Columns: [time(s), Volt, Ampere, Cycle, Cap, R/P]\n",
       "Index: []"
      ]
     },
     "execution_count": 82,
     "metadata": {},
     "output_type": "execute_result"
    }
   ],
   "source": [
    "# Ingin melihat apakah hasil algoritma for loop menghasilkan data yang sesuai\n",
    "\n",
    "cd.loc[cd['Cap']<2.5] # Melakukan query cap >= 2.5 untuk melihat perkalian hambatan"
   ]
  },
  {
   "cell_type": "code",
   "execution_count": 83,
   "metadata": {},
   "outputs": [
    {
     "data": {
      "text/html": [
       "<div>\n",
       "<style scoped>\n",
       "    .dataframe tbody tr th:only-of-type {\n",
       "        vertical-align: middle;\n",
       "    }\n",
       "\n",
       "    .dataframe tbody tr th {\n",
       "        vertical-align: top;\n",
       "    }\n",
       "\n",
       "    .dataframe thead th {\n",
       "        text-align: right;\n",
       "    }\n",
       "</style>\n",
       "<table border=\"1\" class=\"dataframe\">\n",
       "  <thead>\n",
       "    <tr style=\"text-align: right;\">\n",
       "      <th></th>\n",
       "      <th>time(s)</th>\n",
       "      <th>Volt</th>\n",
       "      <th>Ampere</th>\n",
       "      <th>Cycle</th>\n",
       "      <th>Cap</th>\n",
       "      <th>R/P</th>\n",
       "    </tr>\n",
       "  </thead>\n",
       "  <tbody>\n",
       "    <tr>\n",
       "      <th>0</th>\n",
       "      <td>0</td>\n",
       "      <td>4.098</td>\n",
       "      <td>0.997</td>\n",
       "      <td>1</td>\n",
       "      <td>2.840817</td>\n",
       "      <td>4.085706</td>\n",
       "    </tr>\n",
       "    <tr>\n",
       "      <th>1</th>\n",
       "      <td>1</td>\n",
       "      <td>4.096</td>\n",
       "      <td>0.998</td>\n",
       "      <td>1</td>\n",
       "      <td>2.840817</td>\n",
       "      <td>4.087808</td>\n",
       "    </tr>\n",
       "    <tr>\n",
       "      <th>2</th>\n",
       "      <td>2</td>\n",
       "      <td>4.094</td>\n",
       "      <td>0.999</td>\n",
       "      <td>1</td>\n",
       "      <td>2.840817</td>\n",
       "      <td>4.089906</td>\n",
       "    </tr>\n",
       "    <tr>\n",
       "      <th>3</th>\n",
       "      <td>3</td>\n",
       "      <td>4.093</td>\n",
       "      <td>0.998</td>\n",
       "      <td>1</td>\n",
       "      <td>2.840817</td>\n",
       "      <td>4.084814</td>\n",
       "    </tr>\n",
       "    <tr>\n",
       "      <th>4</th>\n",
       "      <td>4</td>\n",
       "      <td>4.092</td>\n",
       "      <td>0.999</td>\n",
       "      <td>1</td>\n",
       "      <td>2.840817</td>\n",
       "      <td>4.087908</td>\n",
       "    </tr>\n",
       "    <tr>\n",
       "      <th>...</th>\n",
       "      <td>...</td>\n",
       "      <td>...</td>\n",
       "      <td>...</td>\n",
       "      <td>...</td>\n",
       "      <td>...</td>\n",
       "      <td>...</td>\n",
       "    </tr>\n",
       "    <tr>\n",
       "      <th>90977</th>\n",
       "      <td>90977</td>\n",
       "      <td>2.506</td>\n",
       "      <td>1.002</td>\n",
       "      <td>9</td>\n",
       "      <td>2.770180</td>\n",
       "      <td>2.511012</td>\n",
       "    </tr>\n",
       "    <tr>\n",
       "      <th>90978</th>\n",
       "      <td>90978</td>\n",
       "      <td>2.504</td>\n",
       "      <td>1.002</td>\n",
       "      <td>9</td>\n",
       "      <td>2.770180</td>\n",
       "      <td>2.509008</td>\n",
       "    </tr>\n",
       "    <tr>\n",
       "      <th>90979</th>\n",
       "      <td>90979</td>\n",
       "      <td>2.502</td>\n",
       "      <td>1.002</td>\n",
       "      <td>9</td>\n",
       "      <td>2.770180</td>\n",
       "      <td>2.507004</td>\n",
       "    </tr>\n",
       "    <tr>\n",
       "      <th>90980</th>\n",
       "      <td>90980</td>\n",
       "      <td>2.500</td>\n",
       "      <td>1.002</td>\n",
       "      <td>9</td>\n",
       "      <td>2.770180</td>\n",
       "      <td>2.505000</td>\n",
       "    </tr>\n",
       "    <tr>\n",
       "      <th>90981</th>\n",
       "      <td>90981</td>\n",
       "      <td>2.497</td>\n",
       "      <td>1.002</td>\n",
       "      <td>9</td>\n",
       "      <td>2.770180</td>\n",
       "      <td>2.501994</td>\n",
       "    </tr>\n",
       "  </tbody>\n",
       "</table>\n",
       "<p>90982 rows × 6 columns</p>\n",
       "</div>"
      ],
      "text/plain": [
       "       time(s)   Volt  Ampere  Cycle       Cap       R/P\n",
       "0            0  4.098   0.997      1  2.840817  4.085706\n",
       "1            1  4.096   0.998      1  2.840817  4.087808\n",
       "2            2  4.094   0.999      1  2.840817  4.089906\n",
       "3            3  4.093   0.998      1  2.840817  4.084814\n",
       "4            4  4.092   0.999      1  2.840817  4.087908\n",
       "...        ...    ...     ...    ...       ...       ...\n",
       "90977    90977  2.506   1.002      9  2.770180  2.511012\n",
       "90978    90978  2.504   1.002      9  2.770180  2.509008\n",
       "90979    90979  2.502   1.002      9  2.770180  2.507004\n",
       "90980    90980  2.500   1.002      9  2.770180  2.505000\n",
       "90981    90981  2.497   1.002      9  2.770180  2.501994\n",
       "\n",
       "[90982 rows x 6 columns]"
      ]
     },
     "execution_count": 83,
     "metadata": {},
     "output_type": "execute_result"
    }
   ],
   "source": [
    "cd # Melihat tabel keseluruhan"
   ]
  },
  {
   "cell_type": "markdown",
   "metadata": {},
   "source": [
    "### Problem c."
   ]
  },
  {
   "cell_type": "code",
   "execution_count": 84,
   "metadata": {},
   "outputs": [],
   "source": [
    "# Membuat query dan dataset baru dimana kapasitas arus = 1 dan cycle ganjil.\n",
    "cd1=cd.loc[(cd['Ampere'] == 1) & (cd['Cycle'] % 2 != 0)]"
   ]
  },
  {
   "cell_type": "code",
   "execution_count": 85,
   "metadata": {},
   "outputs": [
    {
     "data": {
      "text/html": [
       "<div>\n",
       "<style scoped>\n",
       "    .dataframe tbody tr th:only-of-type {\n",
       "        vertical-align: middle;\n",
       "    }\n",
       "\n",
       "    .dataframe tbody tr th {\n",
       "        vertical-align: top;\n",
       "    }\n",
       "\n",
       "    .dataframe thead th {\n",
       "        text-align: right;\n",
       "    }\n",
       "</style>\n",
       "<table border=\"1\" class=\"dataframe\">\n",
       "  <thead>\n",
       "    <tr style=\"text-align: right;\">\n",
       "      <th></th>\n",
       "      <th>time(s)</th>\n",
       "      <th>Volt</th>\n",
       "      <th>Ampere</th>\n",
       "      <th>Cycle</th>\n",
       "      <th>Cap</th>\n",
       "      <th>R/P</th>\n",
       "    </tr>\n",
       "  </thead>\n",
       "  <tbody>\n",
       "  </tbody>\n",
       "</table>\n",
       "</div>"
      ],
      "text/plain": [
       "Empty DataFrame\n",
       "Columns: [time(s), Volt, Ampere, Cycle, Cap, R/P]\n",
       "Index: []"
      ]
     },
     "execution_count": 85,
     "metadata": {},
     "output_type": "execute_result"
    }
   ],
   "source": [
    "cd1.loc[(cd1['Ampere'] !=1)] # Memastikan tidak ada data yang salah dimana ampere != 1"
   ]
  },
  {
   "cell_type": "code",
   "execution_count": 86,
   "metadata": {},
   "outputs": [
    {
     "data": {
      "text/html": [
       "<div>\n",
       "<style scoped>\n",
       "    .dataframe tbody tr th:only-of-type {\n",
       "        vertical-align: middle;\n",
       "    }\n",
       "\n",
       "    .dataframe tbody tr th {\n",
       "        vertical-align: top;\n",
       "    }\n",
       "\n",
       "    .dataframe thead th {\n",
       "        text-align: right;\n",
       "    }\n",
       "</style>\n",
       "<table border=\"1\" class=\"dataframe\">\n",
       "  <thead>\n",
       "    <tr style=\"text-align: right;\">\n",
       "      <th></th>\n",
       "      <th>time(s)</th>\n",
       "      <th>Volt</th>\n",
       "      <th>Ampere</th>\n",
       "      <th>Cycle</th>\n",
       "      <th>Cap</th>\n",
       "      <th>R/P</th>\n",
       "    </tr>\n",
       "  </thead>\n",
       "  <tbody>\n",
       "  </tbody>\n",
       "</table>\n",
       "</div>"
      ],
      "text/plain": [
       "Empty DataFrame\n",
       "Columns: [time(s), Volt, Ampere, Cycle, Cap, R/P]\n",
       "Index: []"
      ]
     },
     "execution_count": 86,
     "metadata": {},
     "output_type": "execute_result"
    }
   ],
   "source": [
    "cd1.loc[(cd1['Cycle'] % 2 == 0)] # Memastikan tidak ada data yang salah dimana Cycle genap"
   ]
  },
  {
   "cell_type": "code",
   "execution_count": 87,
   "metadata": {},
   "outputs": [
    {
     "data": {
      "text/plain": [
       "2.8064845553927484"
      ]
     },
     "execution_count": 87,
     "metadata": {},
     "output_type": "execute_result"
    }
   ],
   "source": [
    "# Melakukan operasi pencarian rata rata pada kolom Cap\n",
    "\n",
    "cd1['Cap'].mean()"
   ]
  },
  {
   "cell_type": "markdown",
   "metadata": {},
   "source": [
    "## Jawaban\n",
    "\n",
    "`Setelah dilakukan perhitungan menggunakan code diatas dihasilkan beberapa jawaban`"
   ]
  },
  {
   "cell_type": "markdown",
   "metadata": {},
   "source": [
    "### Untuk problem a. dihasilkan fungsi dibawah"
   ]
  },
  {
   "cell_type": "code",
   "execution_count": 88,
   "metadata": {},
   "outputs": [],
   "source": [
    "def hambatan(row):\n",
    "    hasil=cd.Volt/cd.Ampere\n",
    "    return hasil\n",
    "    \n",
    "def daya(row):\n",
    "    hasil=cd.Volt*cd.Ampere\n",
    "    return hasil\n"
   ]
  },
  {
   "cell_type": "markdown",
   "metadata": {},
   "source": [
    "### Untuk problem b. dihasilkan dataframe dibawah."
   ]
  },
  {
   "cell_type": "code",
   "execution_count": 89,
   "metadata": {},
   "outputs": [
    {
     "data": {
      "text/html": [
       "<div>\n",
       "<style scoped>\n",
       "    .dataframe tbody tr th:only-of-type {\n",
       "        vertical-align: middle;\n",
       "    }\n",
       "\n",
       "    .dataframe tbody tr th {\n",
       "        vertical-align: top;\n",
       "    }\n",
       "\n",
       "    .dataframe thead th {\n",
       "        text-align: right;\n",
       "    }\n",
       "</style>\n",
       "<table border=\"1\" class=\"dataframe\">\n",
       "  <thead>\n",
       "    <tr style=\"text-align: right;\">\n",
       "      <th></th>\n",
       "      <th>time(s)</th>\n",
       "      <th>Volt</th>\n",
       "      <th>Ampere</th>\n",
       "      <th>Cycle</th>\n",
       "      <th>Cap</th>\n",
       "      <th>R/P</th>\n",
       "    </tr>\n",
       "  </thead>\n",
       "  <tbody>\n",
       "    <tr>\n",
       "      <th>0</th>\n",
       "      <td>0</td>\n",
       "      <td>4.098</td>\n",
       "      <td>0.997</td>\n",
       "      <td>1</td>\n",
       "      <td>2.840817</td>\n",
       "      <td>4.085706</td>\n",
       "    </tr>\n",
       "    <tr>\n",
       "      <th>1</th>\n",
       "      <td>1</td>\n",
       "      <td>4.096</td>\n",
       "      <td>0.998</td>\n",
       "      <td>1</td>\n",
       "      <td>2.840817</td>\n",
       "      <td>4.087808</td>\n",
       "    </tr>\n",
       "    <tr>\n",
       "      <th>2</th>\n",
       "      <td>2</td>\n",
       "      <td>4.094</td>\n",
       "      <td>0.999</td>\n",
       "      <td>1</td>\n",
       "      <td>2.840817</td>\n",
       "      <td>4.089906</td>\n",
       "    </tr>\n",
       "    <tr>\n",
       "      <th>3</th>\n",
       "      <td>3</td>\n",
       "      <td>4.093</td>\n",
       "      <td>0.998</td>\n",
       "      <td>1</td>\n",
       "      <td>2.840817</td>\n",
       "      <td>4.084814</td>\n",
       "    </tr>\n",
       "    <tr>\n",
       "      <th>4</th>\n",
       "      <td>4</td>\n",
       "      <td>4.092</td>\n",
       "      <td>0.999</td>\n",
       "      <td>1</td>\n",
       "      <td>2.840817</td>\n",
       "      <td>4.087908</td>\n",
       "    </tr>\n",
       "    <tr>\n",
       "      <th>...</th>\n",
       "      <td>...</td>\n",
       "      <td>...</td>\n",
       "      <td>...</td>\n",
       "      <td>...</td>\n",
       "      <td>...</td>\n",
       "      <td>...</td>\n",
       "    </tr>\n",
       "    <tr>\n",
       "      <th>90977</th>\n",
       "      <td>90977</td>\n",
       "      <td>2.506</td>\n",
       "      <td>1.002</td>\n",
       "      <td>9</td>\n",
       "      <td>2.770180</td>\n",
       "      <td>2.511012</td>\n",
       "    </tr>\n",
       "    <tr>\n",
       "      <th>90978</th>\n",
       "      <td>90978</td>\n",
       "      <td>2.504</td>\n",
       "      <td>1.002</td>\n",
       "      <td>9</td>\n",
       "      <td>2.770180</td>\n",
       "      <td>2.509008</td>\n",
       "    </tr>\n",
       "    <tr>\n",
       "      <th>90979</th>\n",
       "      <td>90979</td>\n",
       "      <td>2.502</td>\n",
       "      <td>1.002</td>\n",
       "      <td>9</td>\n",
       "      <td>2.770180</td>\n",
       "      <td>2.507004</td>\n",
       "    </tr>\n",
       "    <tr>\n",
       "      <th>90980</th>\n",
       "      <td>90980</td>\n",
       "      <td>2.500</td>\n",
       "      <td>1.002</td>\n",
       "      <td>9</td>\n",
       "      <td>2.770180</td>\n",
       "      <td>2.505000</td>\n",
       "    </tr>\n",
       "    <tr>\n",
       "      <th>90981</th>\n",
       "      <td>90981</td>\n",
       "      <td>2.497</td>\n",
       "      <td>1.002</td>\n",
       "      <td>9</td>\n",
       "      <td>2.770180</td>\n",
       "      <td>2.501994</td>\n",
       "    </tr>\n",
       "  </tbody>\n",
       "</table>\n",
       "<p>90982 rows × 6 columns</p>\n",
       "</div>"
      ],
      "text/plain": [
       "       time(s)   Volt  Ampere  Cycle       Cap       R/P\n",
       "0            0  4.098   0.997      1  2.840817  4.085706\n",
       "1            1  4.096   0.998      1  2.840817  4.087808\n",
       "2            2  4.094   0.999      1  2.840817  4.089906\n",
       "3            3  4.093   0.998      1  2.840817  4.084814\n",
       "4            4  4.092   0.999      1  2.840817  4.087908\n",
       "...        ...    ...     ...    ...       ...       ...\n",
       "90977    90977  2.506   1.002      9  2.770180  2.511012\n",
       "90978    90978  2.504   1.002      9  2.770180  2.509008\n",
       "90979    90979  2.502   1.002      9  2.770180  2.507004\n",
       "90980    90980  2.500   1.002      9  2.770180  2.505000\n",
       "90981    90981  2.497   1.002      9  2.770180  2.501994\n",
       "\n",
       "[90982 rows x 6 columns]"
      ]
     },
     "execution_count": 89,
     "metadata": {},
     "output_type": "execute_result"
    }
   ],
   "source": [
    "cd"
   ]
  },
  {
   "cell_type": "markdown",
   "metadata": {},
   "source": [
    "### Untuk problem c. dihasilkan nilai rata rata."
   ]
  },
  {
   "cell_type": "code",
   "execution_count": 90,
   "metadata": {},
   "outputs": [
    {
     "data": {
      "text/plain": [
       "2.8064845553927484"
      ]
     },
     "execution_count": 90,
     "metadata": {},
     "output_type": "execute_result"
    }
   ],
   "source": [
    "cd1['Cap'].mean()"
   ]
  }
 ],
 "metadata": {
  "kernelspec": {
   "display_name": "Python 3.10.7 64-bit",
   "language": "python",
   "name": "python3"
  },
  "language_info": {
   "codemirror_mode": {
    "name": "ipython",
    "version": 3
   },
   "file_extension": ".py",
   "mimetype": "text/x-python",
   "name": "python",
   "nbconvert_exporter": "python",
   "pygments_lexer": "ipython3",
   "version": "3.10.7"
  },
  "orig_nbformat": 4,
  "vscode": {
   "interpreter": {
    "hash": "0e968b3e28a8eff326c0713b24a2703acb5b4eecbe24764f446bb5f80254562b"
   }
  }
 },
 "nbformat": 4,
 "nbformat_minor": 2
}
